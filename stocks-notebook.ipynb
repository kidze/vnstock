{
 "cells": [
  {
   "cell_type": "code",
   "execution_count": 5,
   "metadata": {},
   "outputs": [],
   "source": [
    "import pandas as pd\n",
    "\n",
    "# Read the CSV file\n",
    "df = pd.read_csv('vn_stock_companies.csv')\n",
    "\n",
    "# Filter the rows where group_code is 'VNINDEX' or 'HNX'\n",
    "vnindex_df = df[df['group_code'] != 'UpcomIndex']\n",
    "\n",
    "# Get the list of tickers\n",
    "symbollist = vnindex_df['ticker'].tolist()\n",
    "# Lấy mã cổ phiếu không lấy mã cổ phiếu quỹ\n",
    "filtered_symbollist = [symbol for symbol in symbollist if len(symbol) <= 4]"
   ]
  },
  {
   "cell_type": "code",
   "execution_count": 7,
   "metadata": {},
   "outputs": [
    {
     "name": "stdout",
     "output_type": "stream",
     "text": [
      "Error fetching data for symbol VTZ: Excel file format cannot be determined, you must specify an engine manually.\n",
      "Error fetching data for symbol GMH: Excel file format cannot be determined, you must specify an engine manually.\n",
      "Error fetching data for symbol HMR: Excel file format cannot be determined, you must specify an engine manually.\n",
      "Error fetching data for symbol PCH: Excel file format cannot be determined, you must specify an engine manually.\n",
      "Error fetching data for symbol NO1: Excel file format cannot be determined, you must specify an engine manually.\n",
      "Error fetching data for symbol ACB: invalid literal for int() with base 10: 'Q5 2018'\n",
      "Error fetching data for symbol CAG: Excel file format cannot be determined, you must specify an engine manually.\n",
      "Error fetching data for symbol AGG: Excel file format cannot be determined, you must specify an engine manually.\n",
      "Error fetching data for symbol ACG: Excel file format cannot be determined, you must specify an engine manually.\n",
      "Error fetching data for symbol APH: Excel file format cannot be determined, you must specify an engine manually.\n",
      "Error fetching data for symbol HII: Excel file format cannot be determined, you must specify an engine manually.\n",
      "Error fetching data for symbol ASG: Excel file format cannot be determined, you must specify an engine manually.\n",
      "Error fetching data for symbol BAF: Excel file format cannot be determined, you must specify an engine manually.\n",
      "Error fetching data for symbol BNA: Excel file format cannot be determined, you must specify an engine manually.\n",
      "Error fetching data for symbol BFC: Excel file format cannot be determined, you must specify an engine manually.\n",
      "Error fetching data for symbol BID: invalid literal for int() with base 10: 'Q5 2018'\n",
      "Error fetching data for symbol BCM: Excel file format cannot be determined, you must specify an engine manually.\n",
      "Error fetching data for symbol DBD: Excel file format cannot be determined, you must specify an engine manually.\n",
      "Error fetching data for symbol BWE: Excel file format cannot be determined, you must specify an engine manually.\n",
      "Error fetching data for symbol BKG: Excel file format cannot be determined, you must specify an engine manually.\n",
      "Error fetching data for symbol TNH: Excel file format cannot be determined, you must specify an engine manually.\n",
      "Error fetching data for symbol C69: Excel file format cannot be determined, you must specify an engine manually.\n",
      "Error fetching data for symbol VSM: Excel file format cannot be determined, you must specify an engine manually.\n",
      "Error fetching data for symbol CRE: Excel file format cannot be determined, you must specify an engine manually.\n",
      "Error fetching data for symbol STK: Excel file format cannot be determined, you must specify an engine manually.\n",
      "Error fetching data for symbol CKG: Excel file format cannot be determined, you must specify an engine manually.\n",
      "Error fetching data for symbol ADG: Excel file format cannot be determined, you must specify an engine manually.\n",
      "Error fetching data for symbol CIA: Excel file format cannot be determined, you must specify an engine manually.\n",
      "Error fetching data for symbol CRC: Excel file format cannot be determined, you must specify an engine manually.\n",
      "Error fetching data for symbol CTG: invalid literal for int() with base 10: 'Q5 2018'\n",
      "Error fetching data for symbol ICT: Excel file format cannot be determined, you must specify an engine manually.\n"
     ]
    }
   ],
   "source": [
    "from vnstock import *\n",
    "import numpy as np\n",
    "financial_data = []  # List to store the financial data objects\n",
    "\n",
    "for symbol in filtered_symbollist:\n",
    "    try:\n",
    "        data = financial_report(symbol=symbol, report_type='IncomeStatement', frequency='Yearly')\n",
    "        \n",
    "        # Find the row index where \"CHỈ TIÊU\" matches one of the three values\n",
    "        row_index = data[data['CHỈ TIÊU'].str.contains('Lợi nhuận của Cổ đông của Công ty mẹ|Lợi nhuận sau thuế của chủ sở hữu, tập đoàn|Lợi nhuận sau thuế phân bổ cho chủ sở hữu|Lợi nhuận sau thuế')].index[0]\n",
    "        \n",
    "        # Use the row index to get the net income data\n",
    "        net_income = data.loc[row_index].to_dict()\n",
    "        \n",
    "        # Remove the first entry in the dictionary\n",
    "        del net_income['CHỈ TIÊU']\n",
    "        \n",
    "        years = list(net_income.keys())[5:]\n",
    "        compound_rate = {}\n",
    "        \n",
    "        for year in years:\n",
    "            year_int = int(year)\n",
    "            sum_net_income_5_years = sum(net_income[str(y)] for y in range(year_int - 5, year_int))\n",
    "            compound_rate[year] = (net_income[year] - net_income[str(year_int - 5)]) / sum_net_income_5_years\n",
    "            \n",
    "        # Calculate average 5 year ROE\n",
    "        df = financial_ratio(symbol, 'yearly', True)\n",
    "        final_average_roe = 0.0\n",
    "        if 'roe' in df.columns and len(df) >= 5:\n",
    "            average_roe = df['roe'].head(5).mean()\n",
    "            if not np.isnan(average_roe):\n",
    "                final_average_roe = average_roe\n",
    "        \n",
    "        financial_data.append({'ticker': symbol, 'net_income': net_income, 'compound_rate': compound_rate, 'average_5y_roe': final_average_roe})\n",
    "    except Exception as e:\n",
    "        print(f\"Error fetching data for symbol {symbol}: {str(e)}\")\n",
    "        continue\n"
   ]
  },
  {
   "cell_type": "code",
   "execution_count": null,
   "metadata": {},
   "outputs": [],
   "source": [
    "for entry in financial_data:\n",
    "    compound_rates = entry['compound_rate']\n",
    "    latest_years = list(compound_rates.keys())[-5:]\n",
    "    average_5y_compound_rate = sum(compound_rates[year] for year in latest_years) / 5\n",
    "    entry['average_5y_compound_rate'] = average_5y_compound_rate\n",
    "\n",
    "# sort financial_data based on the highest roe and average_5y_compound_rate\n",
    "financial_data = sorted(financial_data, key=lambda x: (x['average_5y_roe'], x['average_5y_compound_rate']), reverse=True)\n"
   ]
  },
  {
   "cell_type": "code",
   "execution_count": null,
   "metadata": {},
   "outputs": [],
   "source": [
    "import json\n",
    "\n",
    "# ... your code to populate financial_data ...\n",
    "\n",
    "# Define the file path to save the data\n",
    "file_path = 'financial_data.json'\n",
    "\n",
    "# Write financial_data to the file in JSON format\n",
    "with open(file_path, 'w') as file:\n",
    "    json.dump(financial_data, file)"
   ]
  }
 ],
 "metadata": {
  "kernelspec": {
   "display_name": "Python 3",
   "language": "python",
   "name": "python3"
  },
  "language_info": {
   "codemirror_mode": {
    "name": "ipython",
    "version": 3
   },
   "file_extension": ".py",
   "mimetype": "text/x-python",
   "name": "python",
   "nbconvert_exporter": "python",
   "pygments_lexer": "ipython3",
   "version": "3.11.3"
  },
  "orig_nbformat": 4
 },
 "nbformat": 4,
 "nbformat_minor": 2
}
