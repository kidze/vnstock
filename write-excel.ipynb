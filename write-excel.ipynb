{
 "cells": [
  {
   "cell_type": "code",
   "execution_count": 3,
   "metadata": {},
   "outputs": [
    {
     "name": "stderr",
     "output_type": "stream",
     "text": [
      "/opt/homebrew/lib/python3.11/site-packages/openpyxl/worksheet/_reader.py:329: UserWarning: Unknown extension is not supported and will be removed\n",
      "  warn(msg)\n",
      "/opt/homebrew/lib/python3.11/site-packages/openpyxl/worksheet/_reader.py:329: UserWarning: Conditional Formatting extension is not supported and will be removed\n",
      "  warn(msg)\n"
     ]
    }
   ],
   "source": [
    "import pandas as pd\n",
    "import json\n",
    "from openpyxl import load_workbook\n",
    "\n",
    "# Read the JSON file\n",
    "with open(\"financial_data.json\", \"r\") as file:\n",
    "    financial_data = json.load(file)\n",
    "\n",
    "# Convert the JSON data to a Pandas DataFrame\n",
    "df = pd.DataFrame(financial_data)\n",
    "\n",
    "# Load the existing workbook\n",
    "book = load_workbook('stock-valuation-2022.xlsx')\n",
    "# Create an Excel writer object with the loaded workbook\n",
    "writer = pd.ExcelWriter('stock-valuation-2022.xlsx', engine='openpyxl') \n",
    "writer.book = book\n",
    "\n",
    "# Delete the 'financial_data' sheet if it exists\n",
    "if 'financial_data' in book.sheetnames:\n",
    "    std = book['financial_data']\n",
    "    book.remove(std)\n",
    "\n",
    "# Write the DataFrame to the 'financial_data' sheet\n",
    "df.to_excel(writer, sheet_name='financial_data', index=False)\n",
    "\n",
    "# Save the workbook\n",
    "writer.save()"
   ]
  }
 ],
 "metadata": {
  "kernelspec": {
   "display_name": "Python 3",
   "language": "python",
   "name": "python3"
  },
  "language_info": {
   "codemirror_mode": {
    "name": "ipython",
    "version": 3
   },
   "file_extension": ".py",
   "mimetype": "text/x-python",
   "name": "python",
   "nbconvert_exporter": "python",
   "pygments_lexer": "ipython3",
   "version": "3.11.3"
  },
  "orig_nbformat": 4
 },
 "nbformat": 4,
 "nbformat_minor": 2
}
